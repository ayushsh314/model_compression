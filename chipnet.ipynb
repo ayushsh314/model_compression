{
 "cells": [
  {
   "cell_type": "markdown",
   "metadata": {
    "id": "iE3b83Z-nOMr"
   },
   "source": [
    "\n",
    "##**ChipNet**\n",
    "\n",
    "This notebook demonstrates the implementation of the paper - **ChipNet: Budget-Aware Pruning with Heaviside Continuous Approximations**\n",
    "\n",
    "Steps to train a baseline model and then compress it for a given budget are as follows: \n",
    "*   Load the YAML file.\n",
    "*   Load dataset and create dataloaders.\n",
    "*   Create ChipNet object and pass the parameters in the form of a dictionary.\n",
    "*   Pass the dataloaders into the compress_model method to obtain the compressed model.\n",
    "\n",
    "Since this is a demo notebook the number of epochs have been set to 1, 1 and 2 respectively for pretraining, pruning and finetuning respectively.\n",
    "\n"
   ]
  },
  {
   "cell_type": "code",
   "execution_count": 2,
   "metadata": {},
   "outputs": [
    {
     "name": "stdout",
     "output_type": "stream",
     "text": [
      "/Users/ayushsharma/Documents/Programming/Python/nyun/trailmet\n"
     ]
    }
   ],
   "source": [
    "cd /Users/ayushsharma/Documents/Programming/Python/nyun/trailmet/"
   ]
  },
  {
   "cell_type": "code",
   "execution_count": 3,
   "metadata": {},
   "outputs": [
    {
     "name": "stdout",
     "output_type": "stream",
     "text": [
      "LICENSE      \u001b[34mdata\u001b[m\u001b[m/        \u001b[34mexperiments\u001b[m\u001b[m/ \u001b[34mtrailmet\u001b[m\u001b[m/\n",
      "README.md    \u001b[34mdocs\u001b[m\u001b[m/        \u001b[34mlogs\u001b[m\u001b[m/\n"
     ]
    }
   ],
   "source": [
    "ls"
   ]
  },
  {
   "cell_type": "code",
   "execution_count": 7,
   "metadata": {},
   "outputs": [
    {
     "name": "stdout",
     "output_type": "stream",
     "text": [
      "['/Users/ayushsharma/Documents/Programming/Python/nyun/trailmet/experiments/pruning/chipnet', '/Library/Frameworks/Python.framework/Versions/3.10/lib/python310.zip', '/Library/Frameworks/Python.framework/Versions/3.10/lib/python3.10', '/Library/Frameworks/Python.framework/Versions/3.10/lib/python3.10/lib-dynload', '', '/Library/Frameworks/Python.framework/Versions/3.10/lib/python3.10/site-packages']\n"
     ]
    }
   ],
   "source": [
    "import sys\n",
    "print(sys.path)"
   ]
  },
  {
   "cell_type": "code",
   "execution_count": 4,
   "metadata": {
    "id": "sawZx2AaUrSb"
   },
   "outputs": [],
   "source": [
    "import torch\n",
    "import matplotlib.pyplot as plt\n",
    "from torchvision import transforms\n",
    "from trailmet.models import ModelsFactory\n",
    "from trailmet.datasets.classification import DatasetFactory\n",
    "import yaml"
   ]
  },
  {
   "cell_type": "code",
   "execution_count": 8,
   "metadata": {
    "id": "f1F3p74GUurK"
   },
   "outputs": [],
   "source": [
    "# root = \"/content/trailmet/experiments/pruning/chipnet\"\n",
    "root = \"/Users/ayushsharma/Documents/Programming/Python/nyun/trailmet/experiments/pruning/chipnet\""
   ]
  },
  {
   "cell_type": "markdown",
   "metadata": {
    "id": "kumEj_KQoDa6"
   },
   "source": [
    "###Loading the yaml file for the configurations."
   ]
  },
  {
   "cell_type": "code",
   "execution_count": 9,
   "metadata": {
    "colab": {
     "base_uri": "https://localhost:8080/"
    },
    "id": "gScM1VukUyUd",
    "outputId": "532c5ad8-838e-499f-869a-10bb5a55b207"
   },
   "outputs": [
    {
     "name": "stdout",
     "output_type": "stream",
     "text": [
      "{'CHIPNET_ARGS': {'BUDGET_TYPE': 'channel_ratio', 'TARGET_BUDGET': 0.5, 'BUDGET_LOSS_WEIGHTAGE': 30, 'CRISPNESS_LOSS_WEIGHTAGE': 10, 'BETA_INCREMENT': 5, 'GAMMA_INCREMENT': 2, 'STEEPNESS': 100}, 'PRETRAIN': {'EPOCHS': 1, 'TEST_ONLY': False, 'OPTIMIZER': 'SGD', 'LR': 0.05, 'SCHEDULER_TYPE': 1, 'WEIGHT_DECAY': 0.001}, 'PRUNE': {'EPOCHS': 1, 'TEST_ONLY': False, 'OPTIMIZER': 'SGD', 'LR': 0.05, 'WEIGHT_DECAY': 0.001}, 'FINETUNE': {'EPOCHS': 2, 'TEST_ONLY': False, 'OPTIMIZER': 'SGD', 'LR': 0.05, 'SCHEDULER_TYPE': 1, 'WEIGHT_DECAY': 0.001}}\n"
     ]
    }
   ],
   "source": [
    "import os\n",
    "with open(os.path.join(root, \"chipnet.yaml\"), 'r') as stream:\n",
    "    data_loaded = yaml.safe_load(stream)\n",
    "print(data_loaded)"
   ]
  },
  {
   "cell_type": "markdown",
   "metadata": {
    "id": "IA1AN-IzoK5q"
   },
   "source": [
    "###Loading the model."
   ]
  },
  {
   "cell_type": "code",
   "execution_count": 10,
   "metadata": {
    "id": "nB_iWiaeWUuZ"
   },
   "outputs": [],
   "source": [
    "model = ModelsFactory.create_model('resnet50', 100, False, insize=32)"
   ]
  },
  {
   "cell_type": "markdown",
   "metadata": {
    "id": "hb8NqjjFoNUh"
   },
   "source": [
    "###Loading the dataset."
   ]
  },
  {
   "cell_type": "code",
   "execution_count": 12,
   "metadata": {},
   "outputs": [
    {
     "name": "stdout",
     "output_type": "stream",
     "text": [
      "/Users/ayushsharma/Documents/Programming/Python/nyun\n"
     ]
    }
   ],
   "source": [
    "cd .."
   ]
  },
  {
   "cell_type": "code",
   "execution_count": 13,
   "metadata": {},
   "outputs": [
    {
     "name": "stdout",
     "output_type": "stream",
     "text": [
      "\u001b[34mcheckpoints\u001b[m\u001b[m/  \u001b[34mdata_dir\u001b[m\u001b[m/     \u001b[34mlogs\u001b[m\u001b[m/         torchtest.py  \u001b[34mtrailmet\u001b[m\u001b[m/\n"
     ]
    }
   ],
   "source": [
    "ls"
   ]
  },
  {
   "cell_type": "code",
   "execution_count": 20,
   "metadata": {
    "id": "GgpDcVBVU0nM"
   },
   "outputs": [],
   "source": [
    "from trailmet.datasets.classification import DatasetFactory\n",
    "data_root = \"data_dir\""
   ]
  },
  {
   "cell_type": "code",
   "execution_count": 62,
   "metadata": {},
   "outputs": [],
   "source": [
    "mkdir data_dir"
   ]
  },
  {
   "cell_type": "code",
   "execution_count": 21,
   "metadata": {},
   "outputs": [
    {
     "data": {
      "text/plain": [
       "'data_dir'"
      ]
     },
     "execution_count": 21,
     "metadata": {},
     "output_type": "execute_result"
    }
   ],
   "source": [
    "data_root"
   ]
  },
  {
   "cell_type": "code",
   "execution_count": 22,
   "metadata": {
    "colab": {
     "base_uri": "https://localhost:8080/"
    },
    "id": "osLzBsQeVwxw",
    "outputId": "4d32f266-58c2-41da-e698-b3eb91a2db1c"
   },
   "outputs": [
    {
     "name": "stdout",
     "output_type": "stream",
     "text": [
      "Files already downloaded and verified\n",
      "Files already downloaded and verified\n",
      "Files already downloaded and verified\n"
     ]
    }
   ],
   "source": [
    "train_transform = transforms.Compose(\n",
    "[transforms.ToTensor()])\n",
    "\n",
    "val_transform = transforms.Compose(\n",
    "[transforms.ToTensor()])\n",
    "\n",
    "test_transform = transforms.Compose(\n",
    "[transforms.ToTensor()])\n",
    "\n",
    "transforms1 = {\n",
    "    'train': train_transform, \n",
    "    'val': val_transform, \n",
    "    'test': test_transform}\n",
    "def train_target_transform(label):\n",
    "    return label\n",
    "\n",
    "def val_target_transform(label):\n",
    "    return label\n",
    "\n",
    "def test_target_transform(label):\n",
    "    return label\n",
    "\n",
    "target_transforms = {\n",
    "    'train': None, \n",
    "    'val': None, \n",
    "    'test': None}\n",
    "\n",
    "\n",
    "cifar_dataset = DatasetFactory.create_dataset(name = 'CIFAR100', \n",
    "                                        root = data_root,\n",
    "                                        split_types = ['train', 'val', 'test'],\n",
    "                                        val_fraction = 0.2,\n",
    "                                        transform = transforms1,\n",
    "                                        target_transform = target_transforms\n",
    ")\n"
   ]
  },
  {
   "cell_type": "code",
   "execution_count": 19,
   "metadata": {
    "colab": {
     "base_uri": "https://localhost:8080/"
    },
    "id": "uPPq7RnSVo8C",
    "outputId": "a161435b-2d15-4aa0-f597-287468a6a8fb"
   },
   "outputs": [
    {
     "name": "stdout",
     "output_type": "stream",
     "text": [
      "mkdir: /data_dir: Read-only file system\r\n"
     ]
    }
   ],
   "source": [
    "# mkdir /data_dir"
   ]
  },
  {
   "cell_type": "markdown",
   "metadata": {
    "id": "pYUC-GRxoTs4"
   },
   "source": [
    "###Creating the dataloaders."
   ]
  },
  {
   "cell_type": "code",
   "execution_count": 23,
   "metadata": {
    "id": "LvP7d7IYV1q_"
   },
   "outputs": [],
   "source": [
    "train_loader = torch.utils.data.DataLoader(\n",
    "        cifar_dataset['train'], batch_size=64, \n",
    "        sampler=cifar_dataset['train_sampler'],\n",
    "        num_workers=0\n",
    "    )\n",
    "val_loader = torch.utils.data.DataLoader(\n",
    "        cifar_dataset['val'], batch_size=64, \n",
    "        sampler=cifar_dataset['val_sampler'],\n",
    "        num_workers=0\n",
    "    )\n",
    "test_loader = torch.utils.data.DataLoader(\n",
    "        cifar_dataset['test'], batch_size=64, \n",
    "        sampler=cifar_dataset['test_sampler'],\n",
    "        num_workers=0\n",
    "    )"
   ]
  },
  {
   "cell_type": "markdown",
   "metadata": {
    "id": "jxxv1kvnoZUL"
   },
   "source": [
    "###Creating the method's object followed by compression"
   ]
  },
  {
   "cell_type": "code",
   "execution_count": 24,
   "metadata": {
    "id": "7LK8Pw3lWKVA"
   },
   "outputs": [],
   "source": [
    "from trailmet.algorithms.prune.chipnet import ChipNet"
   ]
  },
  {
   "cell_type": "code",
   "execution_count": 25,
   "metadata": {
    "id": "gRxxsYSZWMpQ"
   },
   "outputs": [],
   "source": [
    "a = ChipNet(model, {'train': train_loader, 'val': val_loader, 'test': test_loader}, **data_loaded)"
   ]
  },
  {
   "cell_type": "code",
   "execution_count": 26,
   "metadata": {
    "colab": {
     "base_uri": "https://localhost:8080/"
    },
    "id": "HpsqRsKgWPtj",
    "outputId": "30b2b27a-007f-4aad-f685-8eb572b4a4c3"
   },
   "outputs": [
    {
     "name": "stderr",
     "output_type": "stream",
     "text": [
      "100%|██████████| 625/625 [29:51<00:00,  2.87s/it, loss=4.41]\n",
      "100%|██████████| 157/157 [05:11<00:00,  1.98s/it, acc1=11.1, acc5=33.6, loss=3.78]\n"
     ]
    },
    {
     "name": "stdout",
     "output_type": "stream",
     "text": [
      "**Saving model**\n"
     ]
    },
    {
     "name": "stderr",
     "output_type": "stream",
     "text": [
      "100%|██████████| 157/157 [05:08<00:00,  1.96s/it, acc1=11.2, acc5=33.9, loss=3.77]\n"
     ]
    },
    {
     "name": "stdout",
     "output_type": "stream",
     "text": [
      "Test Accuracy: 11.19625796178344 | Valid Accuracy: 11.076831210191083\n",
      "preparing model for pruning\n",
      "Starting epoch 1 / 1\n"
     ]
    },
    {
     "name": "stderr",
     "output_type": "stream",
     "text": [
      "100%|██████████| 625/625 [31:58<00:00,  3.07s/it, loss=5.41]  \n"
     ]
    },
    {
     "name": "stdout",
     "output_type": "stream",
     "text": [
      "[1 / 1] Validation before pruning\n"
     ]
    },
    {
     "name": "stderr",
     "output_type": "stream",
     "text": [
      "100%|██████████| 157/157 [35:53<00:00, 13.71s/it, acc1=2.7, acc5=12.4, loss=4.64]   \n"
     ]
    },
    {
     "name": "stdout",
     "output_type": "stream",
     "text": [
      "[1 / 1] Validation after pruning\n"
     ]
    },
    {
     "name": "stderr",
     "output_type": "stream",
     "text": [
      "100%|██████████| 157/157 [08:38<00:00,  3.30s/it, acc1=0.955, acc5=5.09, loss=1.66e+4]\n"
     ]
    },
    {
     "name": "stdout",
     "output_type": "stream",
     "text": [
      "Changed beta to 1.02 changed gamma to 2.8284271247461903\n",
      "**Saving checkpoint**\n"
     ]
    },
    {
     "name": "stderr",
     "output_type": "stream",
     "text": [
      "100%|██████████| 625/625 [1:09:42<00:00,  6.69s/it, loss=4.44] \n",
      "100%|██████████| 157/157 [05:25<00:00,  2.07s/it, acc1=3.1, acc5=13.1, loss=4.38] \n"
     ]
    },
    {
     "name": "stdout",
     "output_type": "stream",
     "text": [
      "**Saving model**\n"
     ]
    },
    {
     "name": "stderr",
     "output_type": "stream",
     "text": [
      "100%|██████████| 625/625 [29:55<00:00,  2.87s/it, loss=4.38]\n",
      "100%|██████████| 157/157 [05:24<00:00,  2.07s/it, acc1=3.04, acc5=14, loss=4.36]  \n",
      "100%|██████████| 157/157 [05:19<00:00,  2.03s/it, acc1=2.91, acc5=13.1, loss=4.39]"
     ]
    },
    {
     "name": "stdout",
     "output_type": "stream",
     "text": [
      "Test Accuracy: 2.906050955414013 | Valid Accuracy: 3.0951433121019107\n"
     ]
    },
    {
     "name": "stderr",
     "output_type": "stream",
     "text": [
      "\n"
     ]
    }
   ],
   "source": [
    "a.compress_model()"
   ]
  },
  {
   "cell_type": "code",
   "execution_count": null,
   "metadata": {},
   "outputs": [],
   "source": []
  }
 ],
 "metadata": {
  "accelerator": "GPU",
  "colab": {
   "authorship_tag": "ABX9TyNNYHtfi466iTgScQQ0I9MP",
   "provenance": []
  },
  "gpuClass": "standard",
  "kernelspec": {
   "display_name": "Python 3 (ipykernel)",
   "language": "python",
   "name": "python3"
  },
  "language_info": {
   "codemirror_mode": {
    "name": "ipython",
    "version": 3
   },
   "file_extension": ".py",
   "mimetype": "text/x-python",
   "name": "python",
   "nbconvert_exporter": "python",
   "pygments_lexer": "ipython3",
   "version": "3.10.10"
  }
 },
 "nbformat": 4,
 "nbformat_minor": 1
}
